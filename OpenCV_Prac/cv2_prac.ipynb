{
 "cells": [
  {
   "cell_type": "code",
   "execution_count": 9,
   "metadata": {},
   "outputs": [
    {
     "name": "stdout",
     "output_type": "stream",
     "text": [
      "100\n"
     ]
    }
   ],
   "source": [
    "import cv2\n",
    "cv2.namedWindow('MyWindow')\n",
    "ret = cv2.waitKey(5000)\n",
    "print(ret)\n",
    "cv2.destroyAllWindows()"
   ]
  },
  {
   "cell_type": "code",
   "execution_count": 10,
   "metadata": {},
   "outputs": [
    {
     "name": "stdout",
     "output_type": "stream",
     "text": [
      "100 d\n"
     ]
    }
   ],
   "source": [
    "print(ret, chr(ret))"
   ]
  },
  {
   "cell_type": "code",
   "execution_count": 12,
   "metadata": {},
   "outputs": [
    {
     "name": "stdout",
     "output_type": "stream",
     "text": [
      "100 d\n",
      "102 f\n",
      "119 w\n",
      "101 e\n",
      "102 f\n",
      "107 k\n",
      "27 \u001b\n"
     ]
    }
   ],
   "source": [
    "import cv2\n",
    "cv2.namedWindow('MyWindow')\n",
    "\n",
    "while True:\n",
    "    ret = cv2.waitKey(0)\n",
    "    print(ret, chr(ret))\n",
    "    if ret == 27:\n",
    "        break\n",
    "\n",
    "cv2.destroyAllWindows()"
   ]
  },
  {
   "cell_type": "code",
   "execution_count": 14,
   "metadata": {},
   "outputs": [],
   "source": [
    "import cv2\n",
    "img1 = cv2.imread(\"C:\\\\Users\\\\dhxog\\\\Desktop\\\\MachineLearning_Prac\\\\OpenCV_Prac\\\\img\\\\cat.jpg\")\n",
    "cv2.namedWindow('MyWindow')\n",
    "cv2.imshow('MyWindow', img1)\n",
    "\n",
    "cv2.waitKey(0)\n",
    "cv2.destroyAllWindows()"
   ]
  },
  {
   "cell_type": "code",
   "execution_count": null,
   "metadata": {},
   "outputs": [],
   "source": [
    "import cv2\n",
    "img1 = cv2.imread(\"C:\\\\Users\\\\dhxog\\\\Desktop\\\\MachineLearning_Prac\\\\OpenCV_Prac\\\\img\\\\cat.jpg\")\n",
    "print(type(img1))\n",
    "cv2.namedWindow('MyWindow')\n",
    "cv2.imshow('MyWindow', img1)\n",
    "\n",
    "cv2.waitKey(0)\n",
    "cv2.destroyAllWindows()"
   ]
  }
 ],
 "metadata": {
  "kernelspec": {
   "display_name": "dhxogns920",
   "language": "python",
   "name": "python3"
  },
  "language_info": {
   "codemirror_mode": {
    "name": "ipython",
    "version": 3
   },
   "file_extension": ".py",
   "mimetype": "text/x-python",
   "name": "python",
   "nbconvert_exporter": "python",
   "pygments_lexer": "ipython3",
   "version": "3.7.16"
  },
  "orig_nbformat": 4
 },
 "nbformat": 4,
 "nbformat_minor": 2
}
